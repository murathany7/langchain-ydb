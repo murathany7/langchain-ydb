{
 "cells": [
  {
   "cell_type": "markdown",
   "id": "055a1e56-3891-4537-a725-d5d7815854db",
   "metadata": {},
   "source": [
    "# YDB+YandexGPT RAG example"
   ]
  },
  {
   "cell_type": "markdown",
   "id": "3e4a492c-d36e-4c8e-814b-80724638df91",
   "metadata": {},
   "source": [
    "# Installation"
   ]
  },
  {
   "cell_type": "markdown",
   "id": "d5106171-10d9-409b-9e7a-980735b04496",
   "metadata": {},
   "source": [
    "First of all, we should install all dependencies and load `.env` file to use `YandexGPT` and `YandexGPTEmbeddings`."
   ]
  },
  {
   "cell_type": "code",
   "execution_count": 1,
   "id": "dd79b704-f095-4f36-aeb2-f52cf82073a8",
   "metadata": {},
   "outputs": [],
   "source": [
    "!pip install -qU yandexcloud langchain-community langchain-ydb python-dotenv langchain-text-splitters"
   ]
  },
  {
   "cell_type": "code",
   "execution_count": 2,
   "id": "caf36344-3998-4dd3-b2a4-3b3dca42fb16",
   "metadata": {},
   "outputs": [],
   "source": [
    "import os\n",
    "from dotenv import load_dotenv\n",
    "dotenv_path = os.path.join(os.path.dirname(__name__), '.env')\n",
    "if os.path.exists(dotenv_path):\n",
    "    load_dotenv(dotenv_path)\n",
    "\n",
    "FOLDER_ID=os.environ.get('YC_FOLDER_ID')"
   ]
  },
  {
   "cell_type": "markdown",
   "id": "5e30e260-103d-4b83-8c15-dbdbe69cf53c",
   "metadata": {},
   "source": [
    "After this step, env variables `YC_FOLDER_ID` and `YC_API_KEY` should be set. Check if you fill `.env` file in case of any errors."
   ]
  },
  {
   "cell_type": "markdown",
   "id": "47aae3d4-caf0-426e-ac82-6d90eddcc070",
   "metadata": {},
   "source": [
    "# Prepare data"
   ]
  },
  {
   "attachments": {},
   "cell_type": "markdown",
   "id": "7df46c66-80b6-4a1a-a53f-5cdf879479ad",
   "metadata": {},
   "source": [
    "In this example we will use `Bro Code` by Barney Stinson from `How I Met Your Mother` series.\n",
    "\n",
    "<div>\n",
    "<img src=\"bro_code.jpg\" width=\"200\"/>\n",
    "</div>\n",
    "\n",
    "Load md file and split in onto langchain's `Document` by header:"
   ]
  },
  {
   "cell_type": "code",
   "execution_count": 3,
   "id": "25449b71-7355-43a2-b00b-40e378e77c4a",
   "metadata": {},
   "outputs": [
    {
     "data": {
      "text/plain": [
       "Document(metadata={'Header 1': 'Статья 11'}, page_content='# Статья 11  \\nБратан может попросить его Братана(ов) помочь ему с переездом, но только после\\nсогласования и оценки времени обязательства и количества крупных предметов\\nмебели. Если Братан значительно недооценил количество своих вещей, то его\\nБратаны сохраняют за собой право оставить его имущество как есть – в\\nбольшинстве случаев, застрявшем в дверях.')"
      ]
     },
     "execution_count": 3,
     "metadata": {},
     "output_type": "execute_result"
    }
   ],
   "source": [
    "from langchain_text_splitters import MarkdownHeaderTextSplitter\n",
    "\n",
    "with open('bro_code.txt', 'r') as file:\n",
    "    markdown_document = file.read()\n",
    "\n",
    "headers_to_split_on = [\n",
    "    (\"#\", \"Header 1\"),\n",
    "]\n",
    "\n",
    "markdown_splitter = MarkdownHeaderTextSplitter(headers_to_split_on, strip_headers=False)\n",
    "md_header_splits = markdown_splitter.split_text(markdown_document)\n",
    "md_header_splits[10]"
   ]
  },
  {
   "cell_type": "markdown",
   "id": "aa05444c-6c02-4a51-aa97-5dbb8db7764d",
   "metadata": {},
   "source": [
    "## Init Embeddings Model and Vector Store"
   ]
  },
  {
   "cell_type": "markdown",
   "id": "6598e583-a323-4be1-8070-b7a065d6c927",
   "metadata": {},
   "source": [
    "To init `YDB` vector store we should create embeddings model. In this example we will use `YandexGPTEmbeddings` as they work well with russian language."
   ]
  },
  {
   "cell_type": "code",
   "execution_count": 4,
   "id": "9e774f9b-b68c-46a8-a716-556d601c9807",
   "metadata": {},
   "outputs": [],
   "source": [
    "from langchain_community.embeddings.yandex import YandexGPTEmbeddings\n",
    "embeddings = YandexGPTEmbeddings(folder_id=FOLDER_ID)"
   ]
  },
  {
   "cell_type": "code",
   "execution_count": 5,
   "id": "570c6670-ec74-48a7-81de-5ff299bb561a",
   "metadata": {},
   "outputs": [],
   "source": [
    "from langchain_ydb.vectorstores import YDB, YDBSettings\n",
    "config = YDBSettings(\n",
    "    table=\"bro_code\",\n",
    "    drop_existing_table=True,\n",
    ")\n",
    "\n",
    "vector_store = YDB(embeddings, config=config)"
   ]
  },
  {
   "cell_type": "markdown",
   "id": "d36f78fa-876f-4d26-a21d-90be8fbf1438",
   "metadata": {},
   "source": [
    "Load prepared documents:"
   ]
  },
  {
   "cell_type": "code",
   "execution_count": 6,
   "id": "fff44d43-f126-43d6-a95e-785e9142f87b",
   "metadata": {},
   "outputs": [
    {
     "name": "stderr",
     "output_type": "stream",
     "text": [
      "WARNING: All log messages before absl::InitializeLog() is called are written to STDERR\n",
      "I0000 00:00:1744028132.700810 1735291 fork_posix.cc:75] Other threads are currently calling into gRPC, skipping fork() handlers\n",
      "Inserting data...: 100%|█████████████████████████████████████████████████████████████████████████████████████████████████████████████████████████████████| 131/131 [00:16<00:00,  7.94it/s]\n"
     ]
    },
    {
     "data": {
      "text/plain": [
       "131"
      ]
     },
     "execution_count": 6,
     "metadata": {},
     "output_type": "execute_result"
    }
   ],
   "source": [
    "ids = vector_store.add_documents(md_header_splits)\n",
    "len(ids)"
   ]
  },
  {
   "cell_type": "markdown",
   "id": "a32dc1de-8969-4097-af67-d51ef8d87d5f",
   "metadata": {},
   "source": [
    "Here's a small example how can we use vector store to search for relateable data:"
   ]
  },
  {
   "cell_type": "code",
   "execution_count": 7,
   "id": "f064c36c-46ff-48fc-b191-5b5497cbeaa8",
   "metadata": {},
   "outputs": [
    {
     "data": {
      "text/plain": [
       "[(Document(metadata={'Header 1': 'Статья 147'}, page_content='# Статья 147  \\nЕсли Братан видит, что другой Братан попал в драку, он должен немедленно стать его\\nБратанским прикрытием. Исключения: Если Братан дерется с действительно ужасно\\nвыглядящим парнем. Если это третья драка (или больше) его Братана за неделю. Если у\\nБратана есть записка от психиатра, освобождающая его от участия в чьем либо\\nприкрытии.'),\n",
       "  0.5891374945640564),\n",
       " (Document(metadata={'Header 1': 'Статья 6'}, page_content='# Статья 6  \\nБратану не следует валять дурака, если он должен раздеваться до гола перед другими\\nБратанами в раздевалке спортзала.\\nВЫВОД: Если братан должен пройтись голым в раздевалке спортзала, все другие\\nБратаны должны притвориться, что, собственно, ничего необычного в происходящем\\nнет, и в то же время, немедленно закрыть (отвести) глаза.'),\n",
       "  0.5692405700683594),\n",
       " (Document(metadata={'Header 1': 'Статья 82'}, page_content='# Статья 82  \\nЕсли два Братана вступили в жаркую дискуссию о чем-либо, и один сказал что-то, из\\nряда вон выходящее, другой не должен заставлять его взять свои слова обратно или\\nизвиниться, чтобы загладить произошедшее. Ибо это бесчеловечно.'),\n",
       "  0.5551252365112305),\n",
       " (Document(metadata={'Header 1': 'Статья 50'}, page_content='# Статья 50  \\nЕсли Братан случайно задел рукой задницу другого Братана при ходьбе, то оба Братана\\nдолжны молча согласится идти дальше как будто ничего не произошло.'),\n",
       "  0.5533294677734375)]"
      ]
     },
     "execution_count": 7,
     "metadata": {},
     "output_type": "execute_result"
    }
   ],
   "source": [
    "vector_store.similarity_search_with_score(\"Намечается драка, нужно ли вступиться?\")"
   ]
  },
  {
   "cell_type": "code",
   "execution_count": 8,
   "id": "65c1031e-2bd0-4d2f-8e56-5bdd5f2756f5",
   "metadata": {},
   "outputs": [],
   "source": [
    "retriever = vector_store.as_retriever(search_kwargs={\"k\": 1})"
   ]
  },
  {
   "cell_type": "markdown",
   "id": "01434bef-492e-49bc-9d6b-35fb5d76d2ff",
   "metadata": {},
   "source": [
    "## Make RAG using langchain"
   ]
  },
  {
   "cell_type": "markdown",
   "id": "0ce415d9-b2d4-41c9-912f-2ed6f75847da",
   "metadata": {},
   "source": [
    "We will use `ChatYandexGPT` as a LLM backend because it works well with russian language."
   ]
  },
  {
   "cell_type": "code",
   "execution_count": 9,
   "id": "5197da1d-db96-4634-b435-c16ff163870b",
   "metadata": {},
   "outputs": [],
   "source": [
    "from langchain_community.chat_models import ChatYandexGPT\n",
    "\n",
    "chat_model = ChatYandexGPT(folder_id=FOLDER_ID)"
   ]
  },
  {
   "cell_type": "markdown",
   "id": "c479c011-62fc-47f3-b149-0312d4924241",
   "metadata": {},
   "source": [
    "Finally, let's define our RAG chain:"
   ]
  },
  {
   "cell_type": "code",
   "execution_count": 10,
   "id": "fb7e19f1-ea27-4d61-8635-dca549b9efb4",
   "metadata": {},
   "outputs": [],
   "source": [
    "from langchain.schema.runnable import RunnablePassthrough\n",
    "from langchain.schema.output_parser import StrOutputParser\n",
    "from langchain.prompts import HumanMessagePromptTemplate, SystemMessagePromptTemplate, ChatPromptTemplate\n",
    "\n",
    "# Явное создание шаблонов для SystemMessage и HumanMessage\n",
    "system_template = \"\"\"Ты - Барни Стинсон. Ты написал неоспоримый кодекс и должен\n",
    "отвечать на пользовательские вопросы опираясь исключительно на найденные статьи кодекса.\n",
    "Не придумывай ничего от себя, твой ответ должен базироваться исключительно на предложенной статье кодекса.\n",
    "Отвечая на вопрос, всегда полностью цитируй статью, а потом подводи короткий итог.\n",
    "\n",
    "Если найденная статья не связана с вопросом - скажи дословно \"Понятия не имею, Братан\" без упоминания найденной статьи.\n",
    "\"\"\"\n",
    "system_message_prompt = SystemMessagePromptTemplate.from_template(system_template)\n",
    "\n",
    "human_template = \"Статья: {context}\\n\\nВопрос: {question}\"\n",
    "human_message_prompt = HumanMessagePromptTemplate.from_template(human_template)\n",
    "\n",
    "# Объединение шаблонов сообщений в ChatPromptTemplate\n",
    "prompt = ChatPromptTemplate.from_messages([\n",
    "    system_message_prompt,\n",
    "    human_message_prompt\n",
    "])\n",
    "\n",
    "def format_docs(docs):\n",
    "    return \"\\n\\n\".join(doc.page_content for doc in docs)\n",
    "\n",
    "rag_chain = (\n",
    "    {\n",
    "        \"context\": retriever | format_docs,\n",
    "        \"question\": RunnablePassthrough()\n",
    "    }\n",
    "    | prompt\n",
    "    | chat_model\n",
    "    | StrOutputParser()\n",
    ")"
   ]
  },
  {
   "cell_type": "markdown",
   "id": "3c9849e7-b01c-43c3-8b5f-4e78eef6694b",
   "metadata": {},
   "source": [
    "The defined chain will do:\n",
    "\n",
    "1. Get question\n",
    "2. Retrieve data from vector store for additional context \n",
    "3. Prepare correct prompt to LLM\n",
    "4. Invoke prompt on LLM\n",
    "5. Return output"
   ]
  },
  {
   "cell_type": "markdown",
   "id": "e6534269-695c-45ac-b051-2e0d9e3e1b30",
   "metadata": {},
   "source": [
    "From this point, we are free to pass any question to our RAG agent:"
   ]
  },
  {
   "cell_type": "code",
   "execution_count": 11,
   "id": "fb1541a8-6750-4c4b-b3c8-ec0973915290",
   "metadata": {},
   "outputs": [
    {
     "data": {
      "text/plain": [
       "'«Братан подбросит другого Братана до аэропорта или обратно, но ни то и другое за одну поездку. Также при этом от него не ожидают прибытия вовремя, помощи с багажом и расспросов о самочувствии и том, как прошёл полёт».\\n\\nСледует подбросить Братана до аэропорта. Не стоит ожидать своевременного прибытия, помогать с багажом и задавать вопросы о полёте.'"
      ]
     },
     "execution_count": 11,
     "metadata": {},
     "output_type": "execute_result"
    }
   ],
   "source": [
    "query = \"Братан попросил подбросить его до аэропорта, что делать?\"\n",
    "rag_chain.invoke(query)"
   ]
  },
  {
   "cell_type": "markdown",
   "id": "942fc1d5-155a-4518-82ed-a2ab052e9d40",
   "metadata": {},
   "source": [
    "## Examples"
   ]
  },
  {
   "cell_type": "code",
   "execution_count": 12,
   "id": "7a027d08-43fd-49ea-b215-ebe0c4389df5",
   "metadata": {},
   "outputs": [
    {
     "data": {
      "text/plain": [
       "'«Если Братан видит, что другой Братан попал в драку, он должен немедленно стать его Братанским прикрытием. Исключения: Если Братан дерётся с действительно ужасно выглядящим парнем. Если это третья драка (или больше) его Братана за неделю. Если у Братана есть записка от психиатра, освобождающая его от участия в чьём-либо прикрытии».\\n\\nТаким образом, если вы стали свидетелем драки или сами в неё втянуты, ваша первоочередная задача — оказать поддержку своему товарищу и стать его прикрытием. Однако есть исключения, которые необходимо учитывать.'"
      ]
     },
     "execution_count": 12,
     "metadata": {},
     "output_type": "execute_result"
    }
   ],
   "source": [
    "query = \"Намечается драка, что делать?\"\n",
    "rag_chain.invoke(query)"
   ]
  },
  {
   "cell_type": "code",
   "execution_count": 13,
   "id": "0ae18dec-b3f0-450f-8d52-c3c1547ef9d2",
   "metadata": {},
   "outputs": [
    {
     "data": {
      "text/plain": [
       "'Когда Братан, купив новую машину, показывает её своим Братанам, он обязан открыть капот. Следствие — Братаны обязаны присвистнуть в знак одобрения, даже если они не понимают, по поводу чего.\\n\\nИтог: чтобы правильно показать друзьям новую машину, нужно открыть капот и дождаться одобрительных возгласов от друзей.'"
      ]
     },
     "execution_count": 13,
     "metadata": {},
     "output_type": "execute_result"
    }
   ],
   "source": [
    "query = \"Я купил новую машину, как правильно показать ее друзьям?\"\n",
    "rag_chain.invoke(query)"
   ]
  },
  {
   "cell_type": "code",
   "execution_count": 14,
   "id": "2c1d5fe2-4d03-406a-9a83-4e661665ddd0",
   "metadata": {},
   "outputs": [
    {
     "data": {
      "text/plain": [
       "'«Собираясь на вечеринку другого Братана, Братан берёт с собой по крайней мере на одну единицу горючего больше, чем планирует выпить. Таким образом, если по плану идёт 6 единиц пива, он должен принести по крайней мере на одну банку больше. Если на вечеринке слишком много любителей выпить на дармовщину и просто излишек чуваков, Братан вправе оставить свою выпивку при себе, хотя этикет советует ему хотя бы подождать до тех пор, пока этого никто не видит».\\n\\nИтак, рекомендуется брать с собой на одну бутылку пива больше, чем вы планируете выпить. Однако, если на вечеринке много людей, которые могут попытаться выпить ваше пиво, вы имеете право оставить его при себе.'"
      ]
     },
     "execution_count": 14,
     "metadata": {},
     "output_type": "execute_result"
    }
   ],
   "source": [
    "query = \"Собираюсь на пьянку, сколько бутылок пива брать с собой?\"\n",
    "rag_chain.invoke(query)"
   ]
  },
  {
   "cell_type": "code",
   "execution_count": 15,
   "id": "224615eb-b7d9-4196-9235-ff70ee593d51",
   "metadata": {},
   "outputs": [
    {
     "data": {
      "text/plain": [
       "'«Всё было хорошо». Братан никогда не может брать камеру на мальчишник. (Статья 136)'"
      ]
     },
     "execution_count": 15,
     "metadata": {},
     "output_type": "execute_result"
    }
   ],
   "source": [
    "query = \"Моя девушка спрашивает что было на мальчишнике. Что ей ответить?\"\n",
    "rag_chain.invoke(query)"
   ]
  },
  {
   "cell_type": "code",
   "execution_count": 16,
   "id": "2f5e4103-2c22-436e-abd3-0f949e17a987",
   "metadata": {},
   "outputs": [
    {
     "data": {
      "text/plain": [
       "'Понятия не имею, братан.'"
      ]
     },
     "execution_count": 16,
     "metadata": {},
     "output_type": "execute_result"
    }
   ],
   "source": [
    "query = \"Как получить хорошую оценку на ревью?\"\n",
    "rag_chain.invoke(query)"
   ]
  }
 ],
 "metadata": {
  "kernelspec": {
   "display_name": "Python 3 (ipykernel)",
   "language": "python",
   "name": "python3"
  },
  "language_info": {
   "codemirror_mode": {
    "name": "ipython",
    "version": 3
   },
   "file_extension": ".py",
   "mimetype": "text/x-python",
   "name": "python",
   "nbconvert_exporter": "python",
   "pygments_lexer": "ipython3",
   "version": "3.13.2"
  }
 },
 "nbformat": 4,
 "nbformat_minor": 5
}
