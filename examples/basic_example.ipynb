{
 "cells": [
  {
   "cell_type": "markdown",
   "id": "5db7cbde-9577-4d4a-9a78-304b4ab6be4f",
   "metadata": {},
   "source": [
    "# YDB Vector Store Example"
   ]
  },
  {
   "cell_type": "markdown",
   "id": "97b34308-e3ee-4fea-b3cc-d56520b7cb61",
   "metadata": {},
   "source": [
    "## Setup\n",
    "\n",
    "First, set up a local YDB with [docker compose file](https://github.com/ydb-platform/langchain-ydb/blob/main/docker/docker-compose.yml) using command: `docker compose up -d --wait`\n",
    "\n"
   ]
  },
  {
   "cell_type": "markdown",
   "id": "9cbac6d9-7aa0-4008-82d0-d393993932ac",
   "metadata": {},
   "source": [
    "Install `langchain-ydb` python package"
   ]
  },
  {
   "cell_type": "code",
   "execution_count": 1,
   "id": "4bca83db-1051-49f4-a7dd-7b007ea454a8",
   "metadata": {},
   "outputs": [],
   "source": [
    "!pip install -qU langchain-ydb"
   ]
  },
  {
   "cell_type": "markdown",
   "id": "6f79b8c7-7ce3-4d10-8b43-087231e3c5ff",
   "metadata": {},
   "source": [
    "Then prepare embeddings model to work with:"
   ]
  },
  {
   "cell_type": "code",
   "execution_count": 2,
   "id": "f2404de2-7d63-4682-ba9a-4ccf48de3a90",
   "metadata": {},
   "outputs": [],
   "source": [
    "!pip install -qU langchain-huggingface\n",
    "\n",
    "from langchain_huggingface import HuggingFaceEmbeddings\n",
    "\n",
    "embeddings = HuggingFaceEmbeddings(model_name=\"sentence-transformers/all-mpnet-base-v2\")"
   ]
  },
  {
   "cell_type": "markdown",
   "id": "962f6371-a4c6-4188-80c3-2379740b2747",
   "metadata": {},
   "source": [
    "Finally, create YDB Vector Store:"
   ]
  },
  {
   "cell_type": "code",
   "execution_count": 3,
   "id": "0761e64b-a65e-4170-9e81-1a318968e694",
   "metadata": {},
   "outputs": [],
   "source": [
    "from langchain_ydb.vectorstores import YDB, YDBSettings\n",
    "\n",
    "vector_store = YDB(\n",
    "    embeddings,\n",
    "    config=YDBSettings(\n",
    "        table=\"langchain_ydb_example_notebook\",\n",
    "        drop_existing_table=True,\n",
    "    ),\n",
    ")"
   ]
  },
  {
   "cell_type": "markdown",
   "id": "9a52b3b1-3443-40ec-9bda-5214ed554a6f",
   "metadata": {},
   "source": [
    "## Operations with YDB Vector Store"
   ]
  },
  {
   "cell_type": "markdown",
   "id": "5d9b41bd-b124-45c7-be47-fa8467ed508a",
   "metadata": {},
   "source": [
    "Prepare data to work with:"
   ]
  },
  {
   "cell_type": "code",
   "execution_count": 4,
   "id": "bacab9ef-2f2b-4639-ad0b-e236240c4fa2",
   "metadata": {},
   "outputs": [],
   "source": [
    "data = [\n",
    "    (\n",
    "        \"The Earth revolves around the Sun once every 365.25 days.\",\n",
    "        {\"category\": \"astronomy\"}\n",
    "    ),\n",
    "    (\n",
    "        \"Water boils at 100 degrees Celsius at standard atmospheric pressure.\",\n",
    "        {\"category\": \"science\"}\n",
    "    ),\n",
    "    (\n",
    "        \"Light travels at approximately 299,792 kilometers per second in a vacuum.\",\n",
    "        {\"category\": \"science\"}\n",
    "    ),\n",
    "    (\n",
    "        \"The Great Wall of China is over 13,000 miles long.\",\n",
    "        {\"category\": \"history\"}\n",
    "    ),\n",
    "    (\n",
    "        \"Mount Everest is the highest mountain in the world, standing at 29,032 feet.\",\n",
    "        {\"category\": \"geography\"}\n",
    "    ),\n",
    "    (\n",
    "        \"The Amazon Rainforest is the largest tropical rainforest, covering over 5.5 \"\n",
    "        \"million square kilometers.\",\n",
    "        {\"category\": \"geography\"}\n",
    "    ),\n",
    "    (\n",
    "        \"The human body contains 206 bones.\",\n",
    "        {\"category\": \"biology\"}\n",
    "    ),\n",
    "    (\n",
    "        \"The Pacific Ocean is the largest ocean on Earth, covering more than \"\n",
    "        \"63 million square miles.\",\n",
    "        {\"category\": \"geography\"}\n",
    "    ),\n",
    "    (\n",
    "        \"The speed of sound in air is around 343 meters per second at \"\n",
    "        \"room temperature.\",\n",
    "        {\"category\": \"science\"}\n",
    "    ),\n",
    "    (\n",
    "        \"A leap year occurs every four years to help synchronize the calendar year \"\n",
    "        \"with the solar year.\",\n",
    "        {\"category\": \"astronomy\"}\n",
    "    ),\n",
    "    (\n",
    "        \"The cheetah is the fastest land animal, capable of running up to 75 miles per \"\n",
    "        \"hour.\",\n",
    "        {\"category\": \"biology\"}\n",
    "    ),\n",
    "    (\n",
    "        \"Venus is the hottest planet in our solar system, with surface temperatures of \"\n",
    "        \"around 467 degrees Celsius.\",\n",
    "        {\"category\": \"astronomy\"}\n",
    "    ),\n",
    "    (\n",
    "        \"Honey never spoils. Archaeologists have found pots of honey in \"\n",
    "        \"ancient Egyptian tombs that are over 3,000 years old and still edible.\",\n",
    "        {\"category\": \"history\"}\n",
    "    ),\n",
    "    (\n",
    "        \"The heart of a resting adult pumps about 70 milliliters of blood per beat.\",\n",
    "        {\"category\": \"biology\"}\n",
    "    ),\n",
    "    (\n",
    "        \"The blue whale is the largest animal on Earth, growing up to \"\n",
    "        \"100 feet long and weighing as much as 200 tons.\",\n",
    "        {\"category\": \"biology\"}\n",
    "    ),\n",
    "    (\n",
    "        \"The Eiffel Tower in Paris was completed in 1889 and was the tallest structure \"\n",
    "        \"in the world until 1930.\",\n",
    "        {\"category\": \"history\"}\n",
    "    ),\n",
    "    (\n",
    "        \"Sharks have been around for over 400 million years, surviving several mass \"\n",
    "        \"extinction events.\",\n",
    "        {\"category\": \"biology\"}\n",
    "    ),\n",
    "    (\n",
    "        \"Bananas are berries, while strawberries are not. Botanically, berries \"\n",
    "        \"come from the ovary of a single flower with seeds embedded in the flesh.\",\n",
    "        {\"category\": \"biology\"}\n",
    "    ),\n",
    "    (\n",
    "        \"Tokyo is the most populous city in the world, with a population of over 37 \"\n",
    "        \"million people in the metropolitan area.\",\n",
    "        {\"category\": \"geography\"}\n",
    "    ),\n",
    "    (\n",
    "        \"The Mona Lisa, painted by Leonardo da Vinci, is one of the most famous \"\n",
    "        \"works of art and is displayed in the Louvre Museum in Paris.\",\n",
    "        {\"category\": \"art\"}\n",
    "    )\n",
    "]\n",
    "\n",
    "\n",
    "texts = [row[0] for row in data]\n",
    "metadatas = [row[1] for row in data]\n"
   ]
  },
  {
   "cell_type": "markdown",
   "id": "875b12e6-400c-4547-bd01-a4722da0e380",
   "metadata": {},
   "source": [
    "Insert this data to vector store:"
   ]
  },
  {
   "cell_type": "code",
   "execution_count": 5,
   "id": "89786747-1b63-49b0-bb70-e47916b751e5",
   "metadata": {},
   "outputs": [
    {
     "name": "stderr",
     "output_type": "stream",
     "text": [
      "Inserting data...: 100%|████████████████████████████████████████████████████████████████████████████████████████████████████████████████████████████████████████████████████████████████████████████████████████████████████████████████████████████████████████| 20/20 [00:01<00:00, 11.76it/s]\n"
     ]
    }
   ],
   "source": [
    "ids = vector_store.add_texts(texts, metadatas)"
   ]
  },
  {
   "cell_type": "markdown",
   "id": "78c12e5c-c022-495d-bbf3-de3ae07e91b0",
   "metadata": {},
   "source": [
    "Similarity search:"
   ]
  },
  {
   "cell_type": "code",
   "execution_count": 6,
   "id": "c723670f-c562-4e82-a383-2802fc781141",
   "metadata": {},
   "outputs": [
    {
     "data": {
      "text/plain": [
       "[Document(metadata={'category': 'geography'}, page_content='Tokyo is the most populous city in the world, with a population of over 37 million people in the metropolitan area.'),\n",
       " Document(metadata={'category': 'history'}, page_content='The Great Wall of China is over 13,000 miles long.')]"
      ]
     },
     "execution_count": 6,
     "metadata": {},
     "output_type": "execute_result"
    }
   ],
   "source": [
    "vector_store.similarity_search(\"Any facts about Tokyo?\", k=2)"
   ]
  },
  {
   "cell_type": "markdown",
   "id": "d9936976-15aa-41fd-aab1-4a986493fa1c",
   "metadata": {},
   "source": [
    "Similarity search with score:"
   ]
  },
  {
   "cell_type": "code",
   "execution_count": 7,
   "id": "4103cb60-cf28-4c8c-8a82-c4b573801efd",
   "metadata": {},
   "outputs": [
    {
     "name": "stdout",
     "output_type": "stream",
     "text": [
      "[SIM=0.508] biology \t | The blue whale is the largest animal on Earth, growing up to 100 feet long and weighing as much as 200 tons.\n",
      "[SIM=0.373] history \t | The Great Wall of China is over 13,000 miles long.\n",
      "[SIM=0.339] geography \t | The Pacific Ocean is the largest ocean on Earth, covering more than 63 million square miles.\n",
      "[SIM=0.305] geography \t | The Amazon Rainforest is the largest tropical rainforest, covering over 5.5 million square kilometers.\n"
     ]
    }
   ],
   "source": [
    "result = vector_store.similarity_search_with_score(\"What objects are huge?\", k=4)\n",
    "for res, score in result:\n",
    "    print(f\"[SIM={score:.3f}] {res.metadata['category']} \\t | {res.page_content}\")"
   ]
  },
  {
   "cell_type": "markdown",
   "id": "e8f05729-d876-4758-ad75-26593d326b67",
   "metadata": {},
   "source": [
    "Similarity search with score and filter:"
   ]
  },
  {
   "cell_type": "code",
   "execution_count": 8,
   "id": "ea643668-d5f8-4ac6-8fda-51a81f886cc2",
   "metadata": {},
   "outputs": [
    {
     "name": "stdout",
     "output_type": "stream",
     "text": [
      "[SIM=0.339] geography \t | The Pacific Ocean is the largest ocean on Earth, covering more than 63 million square miles.\n",
      "[SIM=0.305] geography \t | The Amazon Rainforest is the largest tropical rainforest, covering over 5.5 million square kilometers.\n",
      "[SIM=0.265] geography \t | Mount Everest is the highest mountain in the world, standing at 29,032 feet.\n",
      "[SIM=0.234] geography \t | Tokyo is the most populous city in the world, with a population of over 37 million people in the metropolitan area.\n"
     ]
    }
   ],
   "source": [
    "result = vector_store.similarity_search_with_score(\n",
    "    \"What objects are huge?\", filter={\"category\":\"geography\"}\n",
    ")\n",
    "for res, score in result:\n",
    "    print(f\"[SIM={score:.3f}] {res.metadata['category']} \\t | {res.page_content}\")"
   ]
  }
 ],
 "metadata": {
  "kernelspec": {
   "display_name": "Python 3 (ipykernel)",
   "language": "python",
   "name": "python3"
  },
  "language_info": {
   "codemirror_mode": {
    "name": "ipython",
    "version": 3
   },
   "file_extension": ".py",
   "mimetype": "text/x-python",
   "name": "python",
   "nbconvert_exporter": "python",
   "pygments_lexer": "ipython3",
   "version": "3.13.2"
  }
 },
 "nbformat": 4,
 "nbformat_minor": 5
}
